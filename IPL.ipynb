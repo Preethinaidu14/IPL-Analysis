{
 "cells": [
  {
   "cell_type": "code",
   "execution_count": 1,
   "metadata": {},
   "outputs": [],
   "source": [
    "import pandas as pd\n",
    "import numpy as np\n",
    "import matplotlib.pyplot as plt\n",
    "from matplotlib import style\n",
    "import seaborn as sns\n",
    "sns.set()"
   ]
  },
  {
   "cell_type": "code",
   "execution_count": 2,
   "metadata": {},
   "outputs": [],
   "source": [
    "matches = pd.read_csv('C:\\\\Users\\\\preethi\\\\Downloads\\\\IPL\\\\matches.csv')\n",
    "deliveries = pd.read_csv('C:\\\\Users\\\\preethi\\\\Downloads\\\\IPL\\\\deliveries.csv')"
   ]
  },
  {
   "cell_type": "code",
   "execution_count": 3,
   "metadata": {},
   "outputs": [
    {
     "data": {
      "text/html": [
       "<div>\n",
       "<style scoped>\n",
       "    .dataframe tbody tr th:only-of-type {\n",
       "        vertical-align: middle;\n",
       "    }\n",
       "\n",
       "    .dataframe tbody tr th {\n",
       "        vertical-align: top;\n",
       "    }\n",
       "\n",
       "    .dataframe thead th {\n",
       "        text-align: right;\n",
       "    }\n",
       "</style>\n",
       "<table border=\"1\" class=\"dataframe\">\n",
       "  <thead>\n",
       "    <tr style=\"text-align: right;\">\n",
       "      <th></th>\n",
       "      <th>id</th>\n",
       "      <th>season</th>\n",
       "      <th>city</th>\n",
       "      <th>date</th>\n",
       "      <th>team1</th>\n",
       "      <th>team2</th>\n",
       "      <th>toss_winner</th>\n",
       "      <th>toss_decision</th>\n",
       "      <th>result</th>\n",
       "      <th>dl_applied</th>\n",
       "      <th>winner</th>\n",
       "      <th>win_by_runs</th>\n",
       "      <th>win_by_wickets</th>\n",
       "      <th>player_of_match</th>\n",
       "      <th>venue</th>\n",
       "      <th>umpire1</th>\n",
       "      <th>umpire2</th>\n",
       "      <th>umpire3</th>\n",
       "    </tr>\n",
       "  </thead>\n",
       "  <tbody>\n",
       "    <tr>\n",
       "      <th>0</th>\n",
       "      <td>1</td>\n",
       "      <td>2017</td>\n",
       "      <td>Hyderabad</td>\n",
       "      <td>2017-04-05</td>\n",
       "      <td>Sunrisers Hyderabad</td>\n",
       "      <td>Royal Challengers Bangalore</td>\n",
       "      <td>Royal Challengers Bangalore</td>\n",
       "      <td>field</td>\n",
       "      <td>normal</td>\n",
       "      <td>0</td>\n",
       "      <td>Sunrisers Hyderabad</td>\n",
       "      <td>35</td>\n",
       "      <td>0</td>\n",
       "      <td>Yuvraj Singh</td>\n",
       "      <td>Rajiv Gandhi International Stadium, Uppal</td>\n",
       "      <td>AY Dandekar</td>\n",
       "      <td>NJ Llong</td>\n",
       "      <td>NaN</td>\n",
       "    </tr>\n",
       "    <tr>\n",
       "      <th>1</th>\n",
       "      <td>2</td>\n",
       "      <td>2017</td>\n",
       "      <td>Pune</td>\n",
       "      <td>2017-04-06</td>\n",
       "      <td>Mumbai Indians</td>\n",
       "      <td>Rising Pune Supergiant</td>\n",
       "      <td>Rising Pune Supergiant</td>\n",
       "      <td>field</td>\n",
       "      <td>normal</td>\n",
       "      <td>0</td>\n",
       "      <td>Rising Pune Supergiant</td>\n",
       "      <td>0</td>\n",
       "      <td>7</td>\n",
       "      <td>SPD Smith</td>\n",
       "      <td>Maharashtra Cricket Association Stadium</td>\n",
       "      <td>A Nand Kishore</td>\n",
       "      <td>S Ravi</td>\n",
       "      <td>NaN</td>\n",
       "    </tr>\n",
       "    <tr>\n",
       "      <th>2</th>\n",
       "      <td>3</td>\n",
       "      <td>2017</td>\n",
       "      <td>Rajkot</td>\n",
       "      <td>2017-04-07</td>\n",
       "      <td>Gujarat Lions</td>\n",
       "      <td>Kolkata Knight Riders</td>\n",
       "      <td>Kolkata Knight Riders</td>\n",
       "      <td>field</td>\n",
       "      <td>normal</td>\n",
       "      <td>0</td>\n",
       "      <td>Kolkata Knight Riders</td>\n",
       "      <td>0</td>\n",
       "      <td>10</td>\n",
       "      <td>CA Lynn</td>\n",
       "      <td>Saurashtra Cricket Association Stadium</td>\n",
       "      <td>Nitin Menon</td>\n",
       "      <td>CK Nandan</td>\n",
       "      <td>NaN</td>\n",
       "    </tr>\n",
       "    <tr>\n",
       "      <th>3</th>\n",
       "      <td>4</td>\n",
       "      <td>2017</td>\n",
       "      <td>Indore</td>\n",
       "      <td>2017-04-08</td>\n",
       "      <td>Rising Pune Supergiant</td>\n",
       "      <td>Kings XI Punjab</td>\n",
       "      <td>Kings XI Punjab</td>\n",
       "      <td>field</td>\n",
       "      <td>normal</td>\n",
       "      <td>0</td>\n",
       "      <td>Kings XI Punjab</td>\n",
       "      <td>0</td>\n",
       "      <td>6</td>\n",
       "      <td>GJ Maxwell</td>\n",
       "      <td>Holkar Cricket Stadium</td>\n",
       "      <td>AK Chaudhary</td>\n",
       "      <td>C Shamshuddin</td>\n",
       "      <td>NaN</td>\n",
       "    </tr>\n",
       "    <tr>\n",
       "      <th>4</th>\n",
       "      <td>5</td>\n",
       "      <td>2017</td>\n",
       "      <td>Bangalore</td>\n",
       "      <td>2017-04-08</td>\n",
       "      <td>Royal Challengers Bangalore</td>\n",
       "      <td>Delhi Daredevils</td>\n",
       "      <td>Royal Challengers Bangalore</td>\n",
       "      <td>bat</td>\n",
       "      <td>normal</td>\n",
       "      <td>0</td>\n",
       "      <td>Royal Challengers Bangalore</td>\n",
       "      <td>15</td>\n",
       "      <td>0</td>\n",
       "      <td>KM Jadhav</td>\n",
       "      <td>M Chinnaswamy Stadium</td>\n",
       "      <td>NaN</td>\n",
       "      <td>NaN</td>\n",
       "      <td>NaN</td>\n",
       "    </tr>\n",
       "  </tbody>\n",
       "</table>\n",
       "</div>"
      ],
      "text/plain": [
       "   id  season       city        date                        team1  \\\n",
       "0   1    2017  Hyderabad  2017-04-05          Sunrisers Hyderabad   \n",
       "1   2    2017       Pune  2017-04-06               Mumbai Indians   \n",
       "2   3    2017     Rajkot  2017-04-07                Gujarat Lions   \n",
       "3   4    2017     Indore  2017-04-08       Rising Pune Supergiant   \n",
       "4   5    2017  Bangalore  2017-04-08  Royal Challengers Bangalore   \n",
       "\n",
       "                         team2                  toss_winner toss_decision  \\\n",
       "0  Royal Challengers Bangalore  Royal Challengers Bangalore         field   \n",
       "1       Rising Pune Supergiant       Rising Pune Supergiant         field   \n",
       "2        Kolkata Knight Riders        Kolkata Knight Riders         field   \n",
       "3              Kings XI Punjab              Kings XI Punjab         field   \n",
       "4             Delhi Daredevils  Royal Challengers Bangalore           bat   \n",
       "\n",
       "   result  dl_applied                       winner  win_by_runs  \\\n",
       "0  normal           0          Sunrisers Hyderabad           35   \n",
       "1  normal           0       Rising Pune Supergiant            0   \n",
       "2  normal           0        Kolkata Knight Riders            0   \n",
       "3  normal           0              Kings XI Punjab            0   \n",
       "4  normal           0  Royal Challengers Bangalore           15   \n",
       "\n",
       "   win_by_wickets player_of_match                                      venue  \\\n",
       "0               0    Yuvraj Singh  Rajiv Gandhi International Stadium, Uppal   \n",
       "1               7       SPD Smith    Maharashtra Cricket Association Stadium   \n",
       "2              10         CA Lynn     Saurashtra Cricket Association Stadium   \n",
       "3               6      GJ Maxwell                     Holkar Cricket Stadium   \n",
       "4               0       KM Jadhav                      M Chinnaswamy Stadium   \n",
       "\n",
       "          umpire1        umpire2 umpire3  \n",
       "0     AY Dandekar       NJ Llong     NaN  \n",
       "1  A Nand Kishore         S Ravi     NaN  \n",
       "2     Nitin Menon      CK Nandan     NaN  \n",
       "3    AK Chaudhary  C Shamshuddin     NaN  \n",
       "4             NaN            NaN     NaN  "
      ]
     },
     "execution_count": 3,
     "metadata": {},
     "output_type": "execute_result"
    }
   ],
   "source": [
    "matches.head()"
   ]
  },
  {
   "cell_type": "code",
   "execution_count": 4,
   "metadata": {},
   "outputs": [
    {
     "data": {
      "text/plain": [
       "(756, 18)"
      ]
     },
     "execution_count": 4,
     "metadata": {},
     "output_type": "execute_result"
    }
   ],
   "source": [
    "matches.shape"
   ]
  },
  {
   "cell_type": "markdown",
   "metadata": {},
   "source": [
    "### Q1) How many matches we have got in the dataset?"
   ]
  },
  {
   "cell_type": "code",
   "execution_count": 5,
   "metadata": {},
   "outputs": [
    {
     "data": {
      "text/plain": [
       "756"
      ]
     },
     "execution_count": 5,
     "metadata": {},
     "output_type": "execute_result"
    }
   ],
   "source": [
    "matches['team1'].count()"
   ]
  },
  {
   "cell_type": "markdown",
   "metadata": {},
   "source": [
    "There are 756 in total matches."
   ]
  },
  {
   "cell_type": "markdown",
   "metadata": {},
   "source": [
    "### Q2) Which Team had won by maximum runs?"
   ]
  },
  {
   "cell_type": "code",
   "execution_count": 6,
   "metadata": {},
   "outputs": [],
   "source": [
    "max_runs = matches.groupby(['team1','team2','season'])['win_by_runs'].sum().sort_values(ascending = False).to_frame().head(10)"
   ]
  },
  {
   "cell_type": "code",
   "execution_count": 7,
   "metadata": {},
   "outputs": [
    {
     "data": {
      "text/html": [
       "<style  type=\"text/css\" >\n",
       "    #T_51839482_a18b_11ea_aaa5_8c1645af636arow0_col0 {\n",
       "            background-color:  #67000d;\n",
       "            color:  #f1f1f1;\n",
       "        }    #T_51839482_a18b_11ea_aaa5_8c1645af636arow1_col0 {\n",
       "            background-color:  #cf1c1f;\n",
       "            color:  #f1f1f1;\n",
       "        }    #T_51839482_a18b_11ea_aaa5_8c1645af636arow2_col0 {\n",
       "            background-color:  #db2824;\n",
       "            color:  #f1f1f1;\n",
       "        }    #T_51839482_a18b_11ea_aaa5_8c1645af636arow3_col0 {\n",
       "            background-color:  #e12d26;\n",
       "            color:  #f1f1f1;\n",
       "        }    #T_51839482_a18b_11ea_aaa5_8c1645af636arow4_col0 {\n",
       "            background-color:  #f6563d;\n",
       "            color:  #000000;\n",
       "        }    #T_51839482_a18b_11ea_aaa5_8c1645af636arow5_col0 {\n",
       "            background-color:  #f85f43;\n",
       "            color:  #000000;\n",
       "        }    #T_51839482_a18b_11ea_aaa5_8c1645af636arow6_col0 {\n",
       "            background-color:  #fdd5c4;\n",
       "            color:  #000000;\n",
       "        }    #T_51839482_a18b_11ea_aaa5_8c1645af636arow7_col0 {\n",
       "            background-color:  #fedbcc;\n",
       "            color:  #000000;\n",
       "        }    #T_51839482_a18b_11ea_aaa5_8c1645af636arow8_col0 {\n",
       "            background-color:  #fee8dd;\n",
       "            color:  #000000;\n",
       "        }    #T_51839482_a18b_11ea_aaa5_8c1645af636arow9_col0 {\n",
       "            background-color:  #fff5f0;\n",
       "            color:  #000000;\n",
       "        }</style><table id=\"T_51839482_a18b_11ea_aaa5_8c1645af636a\" ><thead>    <tr>        <th class=\"blank\" ></th>        <th class=\"blank\" ></th>        <th class=\"blank level0\" ></th>        <th class=\"col_heading level0 col0\" >win_by_runs</th>    </tr>    <tr>        <th class=\"index_name level0\" >team1</th>        <th class=\"index_name level1\" >team2</th>        <th class=\"index_name level2\" >season</th>        <th class=\"blank\" ></th>    </tr></thead><tbody>\n",
       "                <tr>\n",
       "                        <th id=\"T_51839482_a18b_11ea_aaa5_8c1645af636alevel0_row0\" class=\"row_heading level0 row0\" >Mumbai Indians</th>\n",
       "                        <th id=\"T_51839482_a18b_11ea_aaa5_8c1645af636alevel1_row0\" class=\"row_heading level1 row0\" >Delhi Daredevils</th>\n",
       "                        <th id=\"T_51839482_a18b_11ea_aaa5_8c1645af636alevel2_row0\" class=\"row_heading level2 row0\" >2017</th>\n",
       "                        <td id=\"T_51839482_a18b_11ea_aaa5_8c1645af636arow0_col0\" class=\"data row0 col0\" >160</td>\n",
       "            </tr>\n",
       "            <tr>\n",
       "                        <th id=\"T_51839482_a18b_11ea_aaa5_8c1645af636alevel0_row1\" class=\"row_heading level0 row1\" >Royal Challengers Bangalore</th>\n",
       "                        <th id=\"T_51839482_a18b_11ea_aaa5_8c1645af636alevel1_row1\" class=\"row_heading level1 row1\" >Pune Warriors</th>\n",
       "                        <th id=\"T_51839482_a18b_11ea_aaa5_8c1645af636alevel2_row1\" class=\"row_heading level2 row1\" >2013</th>\n",
       "                        <td id=\"T_51839482_a18b_11ea_aaa5_8c1645af636arow1_col0\" class=\"data row1 col0\" >147</td>\n",
       "            </tr>\n",
       "            <tr>\n",
       "                        <th id=\"T_51839482_a18b_11ea_aaa5_8c1645af636alevel0_row2\" class=\"row_heading level0 row2\" >Kolkata Knight Riders</th>\n",
       "                        <th id=\"T_51839482_a18b_11ea_aaa5_8c1645af636alevel1_row2\" class=\"row_heading level1 row2\" >Royal Challengers Bangalore</th>\n",
       "                        <th id=\"T_51839482_a18b_11ea_aaa5_8c1645af636alevel2_row2\" class=\"row_heading level2 row2\" >2008</th>\n",
       "                        <td id=\"T_51839482_a18b_11ea_aaa5_8c1645af636arow2_col0\" class=\"data row2 col0\" >145</td>\n",
       "            </tr>\n",
       "            <tr>\n",
       "                        <th id=\"T_51839482_a18b_11ea_aaa5_8c1645af636alevel0_row3\" class=\"row_heading level0 row3\" rowspan=2>Royal Challengers Bangalore</th>\n",
       "                        <th id=\"T_51839482_a18b_11ea_aaa5_8c1645af636alevel1_row3\" class=\"row_heading level1 row3\" >Gujarat Lions</th>\n",
       "                        <th id=\"T_51839482_a18b_11ea_aaa5_8c1645af636alevel2_row3\" class=\"row_heading level2 row3\" >2016</th>\n",
       "                        <td id=\"T_51839482_a18b_11ea_aaa5_8c1645af636arow3_col0\" class=\"data row3 col0\" >144</td>\n",
       "            </tr>\n",
       "            <tr>\n",
       "                                <th id=\"T_51839482_a18b_11ea_aaa5_8c1645af636alevel1_row4\" class=\"row_heading level1 row4\" >Kings XI Punjab</th>\n",
       "                        <th id=\"T_51839482_a18b_11ea_aaa5_8c1645af636alevel2_row4\" class=\"row_heading level2 row4\" >2015</th>\n",
       "                        <td id=\"T_51839482_a18b_11ea_aaa5_8c1645af636arow4_col0\" class=\"data row4 col0\" >138</td>\n",
       "            </tr>\n",
       "            <tr>\n",
       "                        <th id=\"T_51839482_a18b_11ea_aaa5_8c1645af636alevel0_row5\" class=\"row_heading level0 row5\" >Mumbai Indians</th>\n",
       "                        <th id=\"T_51839482_a18b_11ea_aaa5_8c1645af636alevel1_row5\" class=\"row_heading level1 row5\" >Delhi Daredevils</th>\n",
       "                        <th id=\"T_51839482_a18b_11ea_aaa5_8c1645af636alevel2_row5\" class=\"row_heading level2 row5\" >2010</th>\n",
       "                        <td id=\"T_51839482_a18b_11ea_aaa5_8c1645af636arow5_col0\" class=\"data row5 col0\" >137</td>\n",
       "            </tr>\n",
       "            <tr>\n",
       "                        <th id=\"T_51839482_a18b_11ea_aaa5_8c1645af636alevel0_row6\" class=\"row_heading level0 row6\" >Chennai Super Kings</th>\n",
       "                        <th id=\"T_51839482_a18b_11ea_aaa5_8c1645af636alevel1_row6\" class=\"row_heading level1 row6\" >Delhi Daredevils</th>\n",
       "                        <th id=\"T_51839482_a18b_11ea_aaa5_8c1645af636alevel2_row6\" class=\"row_heading level2 row6\" >2013</th>\n",
       "                        <td id=\"T_51839482_a18b_11ea_aaa5_8c1645af636arow6_col0\" class=\"data row6 col0\" >119</td>\n",
       "            </tr>\n",
       "            <tr>\n",
       "                        <th id=\"T_51839482_a18b_11ea_aaa5_8c1645af636alevel0_row7\" class=\"row_heading level0 row7\" >Sunrisers Hyderabad</th>\n",
       "                        <th id=\"T_51839482_a18b_11ea_aaa5_8c1645af636alevel1_row7\" class=\"row_heading level1 row7\" >Royal Challengers Bangalore</th>\n",
       "                        <th id=\"T_51839482_a18b_11ea_aaa5_8c1645af636alevel2_row7\" class=\"row_heading level2 row7\" >2019</th>\n",
       "                        <td id=\"T_51839482_a18b_11ea_aaa5_8c1645af636arow7_col0\" class=\"data row7 col0\" >118</td>\n",
       "            </tr>\n",
       "            <tr>\n",
       "                        <th id=\"T_51839482_a18b_11ea_aaa5_8c1645af636alevel0_row8\" class=\"row_heading level0 row8\" >Mumbai Indians</th>\n",
       "                        <th id=\"T_51839482_a18b_11ea_aaa5_8c1645af636alevel1_row8\" class=\"row_heading level1 row8\" >Kolkata Knight Riders</th>\n",
       "                        <th id=\"T_51839482_a18b_11ea_aaa5_8c1645af636alevel2_row8\" class=\"row_heading level2 row8\" >2018</th>\n",
       "                        <td id=\"T_51839482_a18b_11ea_aaa5_8c1645af636arow8_col0\" class=\"data row8 col0\" >115</td>\n",
       "            </tr>\n",
       "            <tr>\n",
       "                        <th id=\"T_51839482_a18b_11ea_aaa5_8c1645af636alevel0_row9\" class=\"row_heading level0 row9\" >Kings XI Punjab</th>\n",
       "                        <th id=\"T_51839482_a18b_11ea_aaa5_8c1645af636alevel1_row9\" class=\"row_heading level1 row9\" >Royal Challengers Bangalore</th>\n",
       "                        <th id=\"T_51839482_a18b_11ea_aaa5_8c1645af636alevel2_row9\" class=\"row_heading level2 row9\" >2011</th>\n",
       "                        <td id=\"T_51839482_a18b_11ea_aaa5_8c1645af636arow9_col0\" class=\"data row9 col0\" >111</td>\n",
       "            </tr>\n",
       "    </tbody></table>"
      ],
      "text/plain": [
       "<pandas.io.formats.style.Styler at 0x25103d635c0>"
      ]
     },
     "execution_count": 7,
     "metadata": {},
     "output_type": "execute_result"
    }
   ],
   "source": [
    "max_runs.style.background_gradient(cmap='Reds')"
   ]
  },
  {
   "cell_type": "markdown",
   "metadata": {},
   "source": [
    "Mumbai indians and Delhi daredevils more by max runs with 160."
   ]
  },
  {
   "cell_type": "markdown",
   "metadata": {},
   "source": [
    "### Q3) How many seasons we've got in the dataset?"
   ]
  },
  {
   "cell_type": "code",
   "execution_count": 8,
   "metadata": {},
   "outputs": [
    {
     "data": {
      "text/plain": [
       "array([2017, 2008, 2009, 2010, 2011, 2012, 2013, 2014, 2015, 2016, 2018,\n",
       "       2019], dtype=int64)"
      ]
     },
     "execution_count": 8,
     "metadata": {},
     "output_type": "execute_result"
    }
   ],
   "source": [
    "matches['season'].unique()"
   ]
  },
  {
   "cell_type": "markdown",
   "metadata": {},
   "source": [
    "### Q4) Which Team had won by maximum wicket?"
   ]
  },
  {
   "cell_type": "code",
   "execution_count": 9,
   "metadata": {},
   "outputs": [],
   "source": [
    "max_wick = matches.groupby(['team1','team2','season'])['win_by_wickets'].sum().sort_values(ascending=False).to_frame().head(10)"
   ]
  },
  {
   "cell_type": "code",
   "execution_count": 10,
   "metadata": {},
   "outputs": [
    {
     "data": {
      "text/html": [
       "<style  type=\"text/css\" >\n",
       "    #T_51e726c0_a18b_11ea_bc92_8c1645af636arow0_col0 {\n",
       "            background-color:  #67000d;\n",
       "            color:  #f1f1f1;\n",
       "        }    #T_51e726c0_a18b_11ea_bc92_8c1645af636arow1_col0 {\n",
       "            background-color:  #ca181d;\n",
       "            color:  #f1f1f1;\n",
       "        }    #T_51e726c0_a18b_11ea_bc92_8c1645af636arow2_col0 {\n",
       "            background-color:  #ca181d;\n",
       "            color:  #f1f1f1;\n",
       "        }    #T_51e726c0_a18b_11ea_bc92_8c1645af636arow3_col0 {\n",
       "            background-color:  #fb694a;\n",
       "            color:  #000000;\n",
       "        }    #T_51e726c0_a18b_11ea_bc92_8c1645af636arow4_col0 {\n",
       "            background-color:  #fb694a;\n",
       "            color:  #000000;\n",
       "        }    #T_51e726c0_a18b_11ea_bc92_8c1645af636arow5_col0 {\n",
       "            background-color:  #fb694a;\n",
       "            color:  #000000;\n",
       "        }    #T_51e726c0_a18b_11ea_bc92_8c1645af636arow6_col0 {\n",
       "            background-color:  #fcbba1;\n",
       "            color:  #000000;\n",
       "        }    #T_51e726c0_a18b_11ea_bc92_8c1645af636arow7_col0 {\n",
       "            background-color:  #fcbba1;\n",
       "            color:  #000000;\n",
       "        }    #T_51e726c0_a18b_11ea_bc92_8c1645af636arow8_col0 {\n",
       "            background-color:  #fff5f0;\n",
       "            color:  #000000;\n",
       "        }    #T_51e726c0_a18b_11ea_bc92_8c1645af636arow9_col0 {\n",
       "            background-color:  #fff5f0;\n",
       "            color:  #000000;\n",
       "        }</style><table id=\"T_51e726c0_a18b_11ea_bc92_8c1645af636a\" ><thead>    <tr>        <th class=\"blank\" ></th>        <th class=\"blank\" ></th>        <th class=\"blank level0\" ></th>        <th class=\"col_heading level0 col0\" >win_by_wickets</th>    </tr>    <tr>        <th class=\"index_name level0\" >team1</th>        <th class=\"index_name level1\" >team2</th>        <th class=\"index_name level2\" >season</th>        <th class=\"blank\" ></th>    </tr></thead><tbody>\n",
       "                <tr>\n",
       "                        <th id=\"T_51e726c0_a18b_11ea_bc92_8c1645af636alevel0_row0\" class=\"row_heading level0 row0\" >Gujarat Lions</th>\n",
       "                        <th id=\"T_51e726c0_a18b_11ea_bc92_8c1645af636alevel1_row0\" class=\"row_heading level1 row0\" >Sunrisers Hyderabad</th>\n",
       "                        <th id=\"T_51e726c0_a18b_11ea_bc92_8c1645af636alevel2_row0\" class=\"row_heading level2 row0\" >2016</th>\n",
       "                        <td id=\"T_51e726c0_a18b_11ea_bc92_8c1645af636arow0_col0\" class=\"data row0 col0\" >19</td>\n",
       "            </tr>\n",
       "            <tr>\n",
       "                        <th id=\"T_51e726c0_a18b_11ea_bc92_8c1645af636alevel0_row1\" class=\"row_heading level0 row1\" >Sunrisers Hyderabad</th>\n",
       "                        <th id=\"T_51e726c0_a18b_11ea_bc92_8c1645af636alevel1_row1\" class=\"row_heading level1 row1\" >Chennai Super Kings</th>\n",
       "                        <th id=\"T_51e726c0_a18b_11ea_bc92_8c1645af636alevel2_row1\" class=\"row_heading level2 row1\" >2018</th>\n",
       "                        <td id=\"T_51e726c0_a18b_11ea_bc92_8c1645af636arow1_col0\" class=\"data row1 col0\" >18</td>\n",
       "            </tr>\n",
       "            <tr>\n",
       "                        <th id=\"T_51e726c0_a18b_11ea_bc92_8c1645af636alevel0_row2\" class=\"row_heading level0 row2\" rowspan=2>Mumbai Indians</th>\n",
       "                        <th id=\"T_51e726c0_a18b_11ea_bc92_8c1645af636alevel1_row2\" class=\"row_heading level1 row2\" >Chennai Super Kings</th>\n",
       "                        <th id=\"T_51e726c0_a18b_11ea_bc92_8c1645af636alevel2_row2\" class=\"row_heading level2 row2\" >2014</th>\n",
       "                        <td id=\"T_51e726c0_a18b_11ea_bc92_8c1645af636arow2_col0\" class=\"data row2 col0\" >18</td>\n",
       "            </tr>\n",
       "            <tr>\n",
       "                                <th id=\"T_51e726c0_a18b_11ea_bc92_8c1645af636alevel1_row3\" class=\"row_heading level1 row3\" >Rajasthan Royals</th>\n",
       "                        <th id=\"T_51e726c0_a18b_11ea_bc92_8c1645af636alevel2_row3\" class=\"row_heading level2 row3\" >2011</th>\n",
       "                        <td id=\"T_51e726c0_a18b_11ea_bc92_8c1645af636arow3_col0\" class=\"data row3 col0\" >17</td>\n",
       "            </tr>\n",
       "            <tr>\n",
       "                        <th id=\"T_51e726c0_a18b_11ea_bc92_8c1645af636alevel0_row4\" class=\"row_heading level0 row4\" >Rajasthan Royals</th>\n",
       "                        <th id=\"T_51e726c0_a18b_11ea_bc92_8c1645af636alevel1_row4\" class=\"row_heading level1 row4\" >Kolkata Knight Riders</th>\n",
       "                        <th id=\"T_51e726c0_a18b_11ea_bc92_8c1645af636alevel2_row4\" class=\"row_heading level2 row4\" >2011</th>\n",
       "                        <td id=\"T_51e726c0_a18b_11ea_bc92_8c1645af636arow4_col0\" class=\"data row4 col0\" >17</td>\n",
       "            </tr>\n",
       "            <tr>\n",
       "                        <th id=\"T_51e726c0_a18b_11ea_bc92_8c1645af636alevel0_row5\" class=\"row_heading level0 row5\" >Gujarat Lions</th>\n",
       "                        <th id=\"T_51e726c0_a18b_11ea_bc92_8c1645af636alevel1_row5\" class=\"row_heading level1 row5\" >Sunrisers Hyderabad</th>\n",
       "                        <th id=\"T_51e726c0_a18b_11ea_bc92_8c1645af636alevel2_row5\" class=\"row_heading level2 row5\" >2017</th>\n",
       "                        <td id=\"T_51e726c0_a18b_11ea_bc92_8c1645af636arow5_col0\" class=\"data row5 col0\" >17</td>\n",
       "            </tr>\n",
       "            <tr>\n",
       "                        <th id=\"T_51e726c0_a18b_11ea_bc92_8c1645af636alevel0_row6\" class=\"row_heading level0 row6\" >Kolkata Knight Riders</th>\n",
       "                        <th id=\"T_51e726c0_a18b_11ea_bc92_8c1645af636alevel1_row6\" class=\"row_heading level1 row6\" >Delhi Daredevils</th>\n",
       "                        <th id=\"T_51e726c0_a18b_11ea_bc92_8c1645af636alevel2_row6\" class=\"row_heading level2 row6\" >2009</th>\n",
       "                        <td id=\"T_51e726c0_a18b_11ea_bc92_8c1645af636arow6_col0\" class=\"data row6 col0\" >16</td>\n",
       "            </tr>\n",
       "            <tr>\n",
       "                        <th id=\"T_51e726c0_a18b_11ea_bc92_8c1645af636alevel0_row7\" class=\"row_heading level0 row7\" >Delhi Daredevils</th>\n",
       "                        <th id=\"T_51e726c0_a18b_11ea_bc92_8c1645af636alevel1_row7\" class=\"row_heading level1 row7\" >Sunrisers Hyderabad</th>\n",
       "                        <th id=\"T_51e726c0_a18b_11ea_bc92_8c1645af636alevel2_row7\" class=\"row_heading level2 row7\" >2018</th>\n",
       "                        <td id=\"T_51e726c0_a18b_11ea_bc92_8c1645af636arow7_col0\" class=\"data row7 col0\" >16</td>\n",
       "            </tr>\n",
       "            <tr>\n",
       "                        <th id=\"T_51e726c0_a18b_11ea_bc92_8c1645af636alevel0_row8\" class=\"row_heading level0 row8\" >Kochi Tuskers Kerala</th>\n",
       "                        <th id=\"T_51e726c0_a18b_11ea_bc92_8c1645af636alevel1_row8\" class=\"row_heading level1 row8\" >Royal Challengers Bangalore</th>\n",
       "                        <th id=\"T_51e726c0_a18b_11ea_bc92_8c1645af636alevel2_row8\" class=\"row_heading level2 row8\" >2011</th>\n",
       "                        <td id=\"T_51e726c0_a18b_11ea_bc92_8c1645af636arow8_col0\" class=\"data row8 col0\" >15</td>\n",
       "            </tr>\n",
       "            <tr>\n",
       "                        <th id=\"T_51e726c0_a18b_11ea_bc92_8c1645af636alevel0_row9\" class=\"row_heading level0 row9\" >Royal Challengers Bangalore</th>\n",
       "                        <th id=\"T_51e726c0_a18b_11ea_bc92_8c1645af636alevel1_row9\" class=\"row_heading level1 row9\" >Kings XI Punjab</th>\n",
       "                        <th id=\"T_51e726c0_a18b_11ea_bc92_8c1645af636alevel2_row9\" class=\"row_heading level2 row9\" >2008</th>\n",
       "                        <td id=\"T_51e726c0_a18b_11ea_bc92_8c1645af636arow9_col0\" class=\"data row9 col0\" >15</td>\n",
       "            </tr>\n",
       "    </tbody></table>"
      ],
      "text/plain": [
       "<pandas.io.formats.style.Styler at 0x251041b1ef0>"
      ]
     },
     "execution_count": 10,
     "metadata": {},
     "output_type": "execute_result"
    }
   ],
   "source": [
    "max_wick.style.background_gradient(cmap='Reds')"
   ]
  },
  {
   "cell_type": "markdown",
   "metadata": {},
   "source": [
    "Gujrat Lions vs Sunrisers Hyderabad won with maximum wickets."
   ]
  },
  {
   "cell_type": "markdown",
   "metadata": {},
   "source": [
    "### Q5) Which Season had most number of matches?"
   ]
  },
  {
   "cell_type": "code",
   "execution_count": 11,
   "metadata": {},
   "outputs": [],
   "source": [
    "max_season = matches.groupby('season')['season'].count().sort_values(ascending = False).to_frame()"
   ]
  },
  {
   "cell_type": "code",
   "execution_count": 12,
   "metadata": {},
   "outputs": [
    {
     "data": {
      "text/html": [
       "<style  type=\"text/css\" >\n",
       "    #T_5206129e_a18b_11ea_b4f4_8c1645af636arow0_col0 {\n",
       "            background-color:  #67000d;\n",
       "            color:  #f1f1f1;\n",
       "        }    #T_5206129e_a18b_11ea_b4f4_8c1645af636arow1_col0 {\n",
       "            background-color:  #9a0c14;\n",
       "            color:  #f1f1f1;\n",
       "        }    #T_5206129e_a18b_11ea_b4f4_8c1645af636arow2_col0 {\n",
       "            background-color:  #af1117;\n",
       "            color:  #f1f1f1;\n",
       "        }    #T_5206129e_a18b_11ea_b4f4_8c1645af636arow3_col0 {\n",
       "            background-color:  #fdd7c6;\n",
       "            color:  #000000;\n",
       "        }    #T_5206129e_a18b_11ea_b4f4_8c1645af636arow4_col0 {\n",
       "            background-color:  #fdd7c6;\n",
       "            color:  #000000;\n",
       "        }    #T_5206129e_a18b_11ea_b4f4_8c1645af636arow5_col0 {\n",
       "            background-color:  #fdd7c6;\n",
       "            color:  #000000;\n",
       "        }    #T_5206129e_a18b_11ea_b4f4_8c1645af636arow6_col0 {\n",
       "            background-color:  #fdd7c6;\n",
       "            color:  #000000;\n",
       "        }    #T_5206129e_a18b_11ea_b4f4_8c1645af636arow7_col0 {\n",
       "            background-color:  #fdd7c6;\n",
       "            color:  #000000;\n",
       "        }    #T_5206129e_a18b_11ea_b4f4_8c1645af636arow8_col0 {\n",
       "            background-color:  #fee4d8;\n",
       "            color:  #000000;\n",
       "        }    #T_5206129e_a18b_11ea_b4f4_8c1645af636arow9_col0 {\n",
       "            background-color:  #fee4d8;\n",
       "            color:  #000000;\n",
       "        }    #T_5206129e_a18b_11ea_b4f4_8c1645af636arow10_col0 {\n",
       "            background-color:  #ffece4;\n",
       "            color:  #000000;\n",
       "        }    #T_5206129e_a18b_11ea_b4f4_8c1645af636arow11_col0 {\n",
       "            background-color:  #fff5f0;\n",
       "            color:  #000000;\n",
       "        }</style><table id=\"T_5206129e_a18b_11ea_b4f4_8c1645af636a\" ><thead>    <tr>        <th class=\"blank level0\" ></th>        <th class=\"col_heading level0 col0\" >season</th>    </tr>    <tr>        <th class=\"index_name level0\" >season</th>        <th class=\"blank\" ></th>    </tr></thead><tbody>\n",
       "                <tr>\n",
       "                        <th id=\"T_5206129e_a18b_11ea_b4f4_8c1645af636alevel0_row0\" class=\"row_heading level0 row0\" >2013</th>\n",
       "                        <td id=\"T_5206129e_a18b_11ea_b4f4_8c1645af636arow0_col0\" class=\"data row0 col0\" >76</td>\n",
       "            </tr>\n",
       "            <tr>\n",
       "                        <th id=\"T_5206129e_a18b_11ea_b4f4_8c1645af636alevel0_row1\" class=\"row_heading level0 row1\" >2012</th>\n",
       "                        <td id=\"T_5206129e_a18b_11ea_b4f4_8c1645af636arow1_col0\" class=\"data row1 col0\" >74</td>\n",
       "            </tr>\n",
       "            <tr>\n",
       "                        <th id=\"T_5206129e_a18b_11ea_b4f4_8c1645af636alevel0_row2\" class=\"row_heading level0 row2\" >2011</th>\n",
       "                        <td id=\"T_5206129e_a18b_11ea_b4f4_8c1645af636arow2_col0\" class=\"data row2 col0\" >73</td>\n",
       "            </tr>\n",
       "            <tr>\n",
       "                        <th id=\"T_5206129e_a18b_11ea_b4f4_8c1645af636alevel0_row3\" class=\"row_heading level0 row3\" >2019</th>\n",
       "                        <td id=\"T_5206129e_a18b_11ea_b4f4_8c1645af636arow3_col0\" class=\"data row3 col0\" >60</td>\n",
       "            </tr>\n",
       "            <tr>\n",
       "                        <th id=\"T_5206129e_a18b_11ea_b4f4_8c1645af636alevel0_row4\" class=\"row_heading level0 row4\" >2018</th>\n",
       "                        <td id=\"T_5206129e_a18b_11ea_b4f4_8c1645af636arow4_col0\" class=\"data row4 col0\" >60</td>\n",
       "            </tr>\n",
       "            <tr>\n",
       "                        <th id=\"T_5206129e_a18b_11ea_b4f4_8c1645af636alevel0_row5\" class=\"row_heading level0 row5\" >2016</th>\n",
       "                        <td id=\"T_5206129e_a18b_11ea_b4f4_8c1645af636arow5_col0\" class=\"data row5 col0\" >60</td>\n",
       "            </tr>\n",
       "            <tr>\n",
       "                        <th id=\"T_5206129e_a18b_11ea_b4f4_8c1645af636alevel0_row6\" class=\"row_heading level0 row6\" >2014</th>\n",
       "                        <td id=\"T_5206129e_a18b_11ea_b4f4_8c1645af636arow6_col0\" class=\"data row6 col0\" >60</td>\n",
       "            </tr>\n",
       "            <tr>\n",
       "                        <th id=\"T_5206129e_a18b_11ea_b4f4_8c1645af636alevel0_row7\" class=\"row_heading level0 row7\" >2010</th>\n",
       "                        <td id=\"T_5206129e_a18b_11ea_b4f4_8c1645af636arow7_col0\" class=\"data row7 col0\" >60</td>\n",
       "            </tr>\n",
       "            <tr>\n",
       "                        <th id=\"T_5206129e_a18b_11ea_b4f4_8c1645af636alevel0_row8\" class=\"row_heading level0 row8\" >2017</th>\n",
       "                        <td id=\"T_5206129e_a18b_11ea_b4f4_8c1645af636arow8_col0\" class=\"data row8 col0\" >59</td>\n",
       "            </tr>\n",
       "            <tr>\n",
       "                        <th id=\"T_5206129e_a18b_11ea_b4f4_8c1645af636alevel0_row9\" class=\"row_heading level0 row9\" >2015</th>\n",
       "                        <td id=\"T_5206129e_a18b_11ea_b4f4_8c1645af636arow9_col0\" class=\"data row9 col0\" >59</td>\n",
       "            </tr>\n",
       "            <tr>\n",
       "                        <th id=\"T_5206129e_a18b_11ea_b4f4_8c1645af636alevel0_row10\" class=\"row_heading level0 row10\" >2008</th>\n",
       "                        <td id=\"T_5206129e_a18b_11ea_b4f4_8c1645af636arow10_col0\" class=\"data row10 col0\" >58</td>\n",
       "            </tr>\n",
       "            <tr>\n",
       "                        <th id=\"T_5206129e_a18b_11ea_b4f4_8c1645af636alevel0_row11\" class=\"row_heading level0 row11\" >2009</th>\n",
       "                        <td id=\"T_5206129e_a18b_11ea_b4f4_8c1645af636arow11_col0\" class=\"data row11 col0\" >57</td>\n",
       "            </tr>\n",
       "    </tbody></table>"
      ],
      "text/plain": [
       "<pandas.io.formats.style.Styler at 0x25103d63550>"
      ]
     },
     "execution_count": 12,
     "metadata": {},
     "output_type": "execute_result"
    }
   ],
   "source": [
    "max_season.style.background_gradient(cmap='Reds')"
   ]
  },
  {
   "cell_type": "markdown",
   "metadata": {},
   "source": [
    "2013 has the maximum number of matches played."
   ]
  },
  {
   "cell_type": "markdown",
   "metadata": {},
   "source": [
    "### Q5) The most succesfull IPL team?"
   ]
  },
  {
   "cell_type": "code",
   "execution_count": 13,
   "metadata": {},
   "outputs": [
    {
     "data": {
      "image/png": "[encoded data removed]",
      "text/plain": [
       "<Figure size 720x360 with 1 Axes>"
      ]
     },
     "metadata": {
      "needs_background": "light"
     },
     "output_type": "display_data"
    }
   ],
   "source": [
    "plt.figure(figsize=(10,5))\n",
    "sns.countplot(x='winner',data = matches)\n",
    "plt.xticks(rotation = 90)\n",
    "plt.show()\n"
   ]
  },
  {
   "cell_type": "markdown",
   "metadata": {},
   "source": [
    "### Q6) Top player of the match winners?"
   ]
  },
  {
   "cell_type": "code",
   "execution_count": 14,
   "metadata": {},
   "outputs": [
    {
     "data": {
      "text/html": [
       "<div>\n",
       "<style scoped>\n",
       "    .dataframe tbody tr th:only-of-type {\n",
       "        vertical-align: middle;\n",
       "    }\n",
       "\n",
       "    .dataframe tbody tr th {\n",
       "        vertical-align: top;\n",
       "    }\n",
       "\n",
       "    .dataframe thead th {\n",
       "        text-align: right;\n",
       "    }\n",
       "</style>\n",
       "<table border=\"1\" class=\"dataframe\">\n",
       "  <thead>\n",
       "    <tr style=\"text-align: right;\">\n",
       "      <th></th>\n",
       "      <th>player_of_match</th>\n",
       "    </tr>\n",
       "  </thead>\n",
       "  <tbody>\n",
       "    <tr>\n",
       "      <th>CH Gayle</th>\n",
       "      <td>21</td>\n",
       "    </tr>\n",
       "    <tr>\n",
       "      <th>AB de Villiers</th>\n",
       "      <td>20</td>\n",
       "    </tr>\n",
       "    <tr>\n",
       "      <th>DA Warner</th>\n",
       "      <td>17</td>\n",
       "    </tr>\n",
       "    <tr>\n",
       "      <th>MS Dhoni</th>\n",
       "      <td>17</td>\n",
       "    </tr>\n",
       "    <tr>\n",
       "      <th>RG Sharma</th>\n",
       "      <td>17</td>\n",
       "    </tr>\n",
       "    <tr>\n",
       "      <th>YK Pathan</th>\n",
       "      <td>16</td>\n",
       "    </tr>\n",
       "    <tr>\n",
       "      <th>SR Watson</th>\n",
       "      <td>15</td>\n",
       "    </tr>\n",
       "    <tr>\n",
       "      <th>SK Raina</th>\n",
       "      <td>14</td>\n",
       "    </tr>\n",
       "    <tr>\n",
       "      <th>G Gambhir</th>\n",
       "      <td>13</td>\n",
       "    </tr>\n",
       "    <tr>\n",
       "      <th>MEK Hussey</th>\n",
       "      <td>12</td>\n",
       "    </tr>\n",
       "  </tbody>\n",
       "</table>\n",
       "</div>"
      ],
      "text/plain": [
       "                player_of_match\n",
       "CH Gayle                     21\n",
       "AB de Villiers               20\n",
       "DA Warner                    17\n",
       "MS Dhoni                     17\n",
       "RG Sharma                    17\n",
       "YK Pathan                    16\n",
       "SR Watson                    15\n",
       "SK Raina                     14\n",
       "G Gambhir                    13\n",
       "MEK Hussey                   12"
      ]
     },
     "execution_count": 14,
     "metadata": {},
     "output_type": "execute_result"
    }
   ],
   "source": [
    "player_match = matches['player_of_match'].value_counts()[:10].to_frame()\n",
    "player_match"
   ]
  },
  {
   "cell_type": "code",
   "execution_count": 15,
   "metadata": {},
   "outputs": [
    {
     "data": {
      "image/png": "[encoded data removed]",
      "text/plain": [
       "<Figure size 432x288 with 1 Axes>"
      ]
     },
     "metadata": {
      "needs_background": "light"
     },
     "output_type": "display_data"
    }
   ],
   "source": [
    "sns.barplot(x= player_match.index,y = player_match['player_of_match'],orient = 'v')\n",
    "plt.xticks(rotation = 90)\n",
    "plt.show()"
   ]
  },
  {
   "cell_type": "markdown",
   "metadata": {},
   "source": [
    "### Q7) Has Toss-winning helped in Match-winning?"
   ]
  },
  {
   "cell_type": "code",
   "execution_count": 16,
   "metadata": {},
   "outputs": [
    {
     "data": {
      "text/html": [
       "<div>\n",
       "<style scoped>\n",
       "    .dataframe tbody tr th:only-of-type {\n",
       "        vertical-align: middle;\n",
       "    }\n",
       "\n",
       "    .dataframe tbody tr th {\n",
       "        vertical-align: top;\n",
       "    }\n",
       "\n",
       "    .dataframe thead th {\n",
       "        text-align: right;\n",
       "    }\n",
       "</style>\n",
       "<table border=\"1\" class=\"dataframe\">\n",
       "  <thead>\n",
       "    <tr style=\"text-align: right;\">\n",
       "      <th></th>\n",
       "      <th>id</th>\n",
       "      <th>season</th>\n",
       "      <th>city</th>\n",
       "      <th>date</th>\n",
       "      <th>team1</th>\n",
       "      <th>team2</th>\n",
       "      <th>toss_winner</th>\n",
       "      <th>toss_decision</th>\n",
       "      <th>result</th>\n",
       "      <th>dl_applied</th>\n",
       "      <th>winner</th>\n",
       "      <th>win_by_runs</th>\n",
       "      <th>win_by_wickets</th>\n",
       "      <th>player_of_match</th>\n",
       "      <th>venue</th>\n",
       "      <th>umpire1</th>\n",
       "      <th>umpire2</th>\n",
       "      <th>umpire3</th>\n",
       "    </tr>\n",
       "  </thead>\n",
       "  <tbody>\n",
       "    <tr>\n",
       "      <th>0</th>\n",
       "      <td>1</td>\n",
       "      <td>2017</td>\n",
       "      <td>Hyderabad</td>\n",
       "      <td>2017-04-05</td>\n",
       "      <td>Sunrisers Hyderabad</td>\n",
       "      <td>Royal Challengers Bangalore</td>\n",
       "      <td>Royal Challengers Bangalore</td>\n",
       "      <td>field</td>\n",
       "      <td>normal</td>\n",
       "      <td>0</td>\n",
       "      <td>Sunrisers Hyderabad</td>\n",
       "      <td>35</td>\n",
       "      <td>0</td>\n",
       "      <td>Yuvraj Singh</td>\n",
       "      <td>Rajiv Gandhi International Stadium, Uppal</td>\n",
       "      <td>AY Dandekar</td>\n",
       "      <td>NJ Llong</td>\n",
       "      <td>NaN</td>\n",
       "    </tr>\n",
       "    <tr>\n",
       "      <th>1</th>\n",
       "      <td>2</td>\n",
       "      <td>2017</td>\n",
       "      <td>Pune</td>\n",
       "      <td>2017-04-06</td>\n",
       "      <td>Mumbai Indians</td>\n",
       "      <td>Rising Pune Supergiant</td>\n",
       "      <td>Rising Pune Supergiant</td>\n",
       "      <td>field</td>\n",
       "      <td>normal</td>\n",
       "      <td>0</td>\n",
       "      <td>Rising Pune Supergiant</td>\n",
       "      <td>0</td>\n",
       "      <td>7</td>\n",
       "      <td>SPD Smith</td>\n",
       "      <td>Maharashtra Cricket Association Stadium</td>\n",
       "      <td>A Nand Kishore</td>\n",
       "      <td>S Ravi</td>\n",
       "      <td>NaN</td>\n",
       "    </tr>\n",
       "    <tr>\n",
       "      <th>2</th>\n",
       "      <td>3</td>\n",
       "      <td>2017</td>\n",
       "      <td>Rajkot</td>\n",
       "      <td>2017-04-07</td>\n",
       "      <td>Gujarat Lions</td>\n",
       "      <td>Kolkata Knight Riders</td>\n",
       "      <td>Kolkata Knight Riders</td>\n",
       "      <td>field</td>\n",
       "      <td>normal</td>\n",
       "      <td>0</td>\n",
       "      <td>Kolkata Knight Riders</td>\n",
       "      <td>0</td>\n",
       "      <td>10</td>\n",
       "      <td>CA Lynn</td>\n",
       "      <td>Saurashtra Cricket Association Stadium</td>\n",
       "      <td>Nitin Menon</td>\n",
       "      <td>CK Nandan</td>\n",
       "      <td>NaN</td>\n",
       "    </tr>\n",
       "    <tr>\n",
       "      <th>3</th>\n",
       "      <td>4</td>\n",
       "      <td>2017</td>\n",
       "      <td>Indore</td>\n",
       "      <td>2017-04-08</td>\n",
       "      <td>Rising Pune Supergiant</td>\n",
       "      <td>Kings XI Punjab</td>\n",
       "      <td>Kings XI Punjab</td>\n",
       "      <td>field</td>\n",
       "      <td>normal</td>\n",
       "      <td>0</td>\n",
       "      <td>Kings XI Punjab</td>\n",
       "      <td>0</td>\n",
       "      <td>6</td>\n",
       "      <td>GJ Maxwell</td>\n",
       "      <td>Holkar Cricket Stadium</td>\n",
       "      <td>AK Chaudhary</td>\n",
       "      <td>C Shamshuddin</td>\n",
       "      <td>NaN</td>\n",
       "    </tr>\n",
       "    <tr>\n",
       "      <th>4</th>\n",
       "      <td>5</td>\n",
       "      <td>2017</td>\n",
       "      <td>Bangalore</td>\n",
       "      <td>2017-04-08</td>\n",
       "      <td>Royal Challengers Bangalore</td>\n",
       "      <td>Delhi Daredevils</td>\n",
       "      <td>Royal Challengers Bangalore</td>\n",
       "      <td>bat</td>\n",
       "      <td>normal</td>\n",
       "      <td>0</td>\n",
       "      <td>Royal Challengers Bangalore</td>\n",
       "      <td>15</td>\n",
       "      <td>0</td>\n",
       "      <td>KM Jadhav</td>\n",
       "      <td>M Chinnaswamy Stadium</td>\n",
       "      <td>NaN</td>\n",
       "      <td>NaN</td>\n",
       "      <td>NaN</td>\n",
       "    </tr>\n",
       "  </tbody>\n",
       "</table>\n",
       "</div>"
      ],
      "text/plain": [
       "   id  season       city        date                        team1  \\\n",
       "0   1    2017  Hyderabad  2017-04-05          Sunrisers Hyderabad   \n",
       "1   2    2017       Pune  2017-04-06               Mumbai Indians   \n",
       "2   3    2017     Rajkot  2017-04-07                Gujarat Lions   \n",
       "3   4    2017     Indore  2017-04-08       Rising Pune Supergiant   \n",
       "4   5    2017  Bangalore  2017-04-08  Royal Challengers Bangalore   \n",
       "\n",
       "                         team2                  toss_winner toss_decision  \\\n",
       "0  Royal Challengers Bangalore  Royal Challengers Bangalore         field   \n",
       "1       Rising Pune Supergiant       Rising Pune Supergiant         field   \n",
       "2        Kolkata Knight Riders        Kolkata Knight Riders         field   \n",
       "3              Kings XI Punjab              Kings XI Punjab         field   \n",
       "4             Delhi Daredevils  Royal Challengers Bangalore           bat   \n",
       "\n",
       "   result  dl_applied                       winner  win_by_runs  \\\n",
       "0  normal           0          Sunrisers Hyderabad           35   \n",
       "1  normal           0       Rising Pune Supergiant            0   \n",
       "2  normal           0        Kolkata Knight Riders            0   \n",
       "3  normal           0              Kings XI Punjab            0   \n",
       "4  normal           0  Royal Challengers Bangalore           15   \n",
       "\n",
       "   win_by_wickets player_of_match                                      venue  \\\n",
       "0               0    Yuvraj Singh  Rajiv Gandhi International Stadium, Uppal   \n",
       "1               7       SPD Smith    Maharashtra Cricket Association Stadium   \n",
       "2              10         CA Lynn     Saurashtra Cricket Association Stadium   \n",
       "3               6      GJ Maxwell                     Holkar Cricket Stadium   \n",
       "4               0       KM Jadhav                      M Chinnaswamy Stadium   \n",
       "\n",
       "          umpire1        umpire2 umpire3  \n",
       "0     AY Dandekar       NJ Llong     NaN  \n",
       "1  A Nand Kishore         S Ravi     NaN  \n",
       "2     Nitin Menon      CK Nandan     NaN  \n",
       "3    AK Chaudhary  C Shamshuddin     NaN  \n",
       "4             NaN            NaN     NaN  "
      ]
     },
     "execution_count": 16,
     "metadata": {},
     "output_type": "execute_result"
    }
   ],
   "source": [
    "matches.head()"
   ]
  },
  {
   "cell_type": "code",
   "execution_count": 26,
   "metadata": {},
   "outputs": [],
   "source": [
    "toss = matches['toss_winner'] == matches['winner']"
   ]
  },
  {
   "cell_type": "code",
   "execution_count": 32,
   "metadata": {},
   "outputs": [
    {
     "data": {
      "text/plain": [
       "True     393\n",
       "False    363\n",
       "dtype: int64"
      ]
     },
     "execution_count": 32,
     "metadata": {},
     "output_type": "execute_result"
    }
   ],
   "source": [
    "toss.value_counts()"
   ]
  },
  {
   "cell_type": "code",
   "execution_count": 35,
   "metadata": {},
   "outputs": [
    {
     "data": {
      "text/plain": [
       "<matplotlib.axes._subplots.AxesSubplot at 0x25104afcb70>"
      ]
     },
     "execution_count": 35,
     "metadata": {},
     "output_type": "execute_result"
    },
    {
     "data": {
      "image/png": "[encoded data removed]",
      "text/plain": [
       "<Figure size 432x288 with 1 Axes>"
      ]
     },
     "metadata": {
      "needs_background": "light"
     },
     "output_type": "display_data"
    }
   ],
   "source": [
    "sns.countplot(toss)"
   ]
  },
  {
   "cell_type": "markdown",
   "metadata": {},
   "source": [
    "### Q8) Which team has won by minium wickets?"
   ]
  },
  {
   "cell_type": "code",
   "execution_count": 53,
   "metadata": {},
   "outputs": [
    {
     "data": {
      "text/plain": [
       "id                                   560\n",
       "season                              2015\n",
       "city                             Kolkata\n",
       "date                          2015-05-09\n",
       "team1                    Kings XI Punjab\n",
       "team2              Kolkata Knight Riders\n",
       "toss_winner              Kings XI Punjab\n",
       "toss_decision                        bat\n",
       "result                            normal\n",
       "dl_applied                             0\n",
       "winner             Kolkata Knight Riders\n",
       "win_by_runs                            0\n",
       "win_by_wickets                         1\n",
       "player_of_match               AD Russell\n",
       "venue                       Eden Gardens\n",
       "umpire1                     AK Chaudhary\n",
       "umpire2                  HDPK Dharmasena\n",
       "umpire3                              NaN\n",
       "Name: 559, dtype: object"
      ]
     },
     "execution_count": 53,
     "metadata": {},
     "output_type": "execute_result"
    }
   ],
   "source": [
    "matches.iloc[matches[matches['win_by_wickets'].ge(1)].win_by_wickets.idxmin()]"
   ]
  },
  {
   "cell_type": "markdown",
   "metadata": {},
   "source": [
    "### Q9) Which Team had won by (closest margin) minimum runs?"
   ]
  },
  {
   "cell_type": "code",
   "execution_count": 73,
   "metadata": {},
   "outputs": [
    {
     "data": {
      "text/plain": [
       "'Mumbai Indians'"
      ]
     },
     "execution_count": 73,
     "metadata": {},
     "output_type": "execute_result"
    }
   ],
   "source": [
    "matches.iloc[matches[matches['win_by_runs'].ge(1)].win_by_runs.idxmin()]['winner']"
   ]
  },
  {
   "cell_type": "markdown",
   "metadata": {},
   "source": [
    "### Q10) How many matches are played in each city ?"
   ]
  },
  {
   "cell_type": "code",
   "execution_count": 94,
   "metadata": {},
   "outputs": [],
   "source": [
    "city = matches.groupby('city')['season'].count().sort_values(ascending=False).to_frame()"
   ]
  },
  {
   "cell_type": "code",
   "execution_count": 96,
   "metadata": {},
   "outputs": [
    {
     "data": {
      "text/html": [
       "<style  type=\"text/css\" >\n",
       "    #T_49764538_a199_11ea_af90_8c1645af636arow0_col0 {\n",
       "            background-color:  #67000d;\n",
       "            color:  #f1f1f1;\n",
       "        }    #T_49764538_a199_11ea_af90_8c1645af636arow1_col0 {\n",
       "            background-color:  #c9181d;\n",
       "            color:  #f1f1f1;\n",
       "        }    #T_49764538_a199_11ea_af90_8c1645af636arow2_col0 {\n",
       "            background-color:  #d11e1f;\n",
       "            color:  #f1f1f1;\n",
       "        }    #T_49764538_a199_11ea_af90_8c1645af636arow3_col0 {\n",
       "            background-color:  #e93529;\n",
       "            color:  #f1f1f1;\n",
       "        }    #T_49764538_a199_11ea_af90_8c1645af636arow4_col0 {\n",
       "            background-color:  #ee3a2c;\n",
       "            color:  #f1f1f1;\n",
       "        }    #T_49764538_a199_11ea_af90_8c1645af636arow5_col0 {\n",
       "            background-color:  #f6553c;\n",
       "            color:  #000000;\n",
       "        }    #T_49764538_a199_11ea_af90_8c1645af636arow6_col0 {\n",
       "            background-color:  #fb7858;\n",
       "            color:  #000000;\n",
       "        }    #T_49764538_a199_11ea_af90_8c1645af636arow7_col0 {\n",
       "            background-color:  #fb7c5c;\n",
       "            color:  #000000;\n",
       "        }    #T_49764538_a199_11ea_af90_8c1645af636arow8_col0 {\n",
       "            background-color:  #fc9576;\n",
       "            color:  #000000;\n",
       "        }    #T_49764538_a199_11ea_af90_8c1645af636arow9_col0 {\n",
       "            background-color:  #fedfd0;\n",
       "            color:  #000000;\n",
       "        }    #T_49764538_a199_11ea_af90_8c1645af636arow10_col0 {\n",
       "            background-color:  #fee1d3;\n",
       "            color:  #000000;\n",
       "        }    #T_49764538_a199_11ea_af90_8c1645af636arow11_col0 {\n",
       "            background-color:  #fee3d6;\n",
       "            color:  #000000;\n",
       "        }    #T_49764538_a199_11ea_af90_8c1645af636arow12_col0 {\n",
       "            background-color:  #fee5d8;\n",
       "            color:  #000000;\n",
       "        }    #T_49764538_a199_11ea_af90_8c1645af636arow13_col0 {\n",
       "            background-color:  #fee5d8;\n",
       "            color:  #000000;\n",
       "        }    #T_49764538_a199_11ea_af90_8c1645af636arow14_col0 {\n",
       "            background-color:  #fee8dd;\n",
       "            color:  #000000;\n",
       "        }    #T_49764538_a199_11ea_af90_8c1645af636arow15_col0 {\n",
       "            background-color:  #fee8dd;\n",
       "            color:  #000000;\n",
       "        }    #T_49764538_a199_11ea_af90_8c1645af636arow16_col0 {\n",
       "            background-color:  #fee9df;\n",
       "            color:  #000000;\n",
       "        }    #T_49764538_a199_11ea_af90_8c1645af636arow17_col0 {\n",
       "            background-color:  #fee9df;\n",
       "            color:  #000000;\n",
       "        }    #T_49764538_a199_11ea_af90_8c1645af636arow18_col0 {\n",
       "            background-color:  #ffebe2;\n",
       "            color:  #000000;\n",
       "        }    #T_49764538_a199_11ea_af90_8c1645af636arow19_col0 {\n",
       "            background-color:  #ffede5;\n",
       "            color:  #000000;\n",
       "        }    #T_49764538_a199_11ea_af90_8c1645af636arow20_col0 {\n",
       "            background-color:  #ffede5;\n",
       "            color:  #000000;\n",
       "        }    #T_49764538_a199_11ea_af90_8c1645af636arow21_col0 {\n",
       "            background-color:  #ffede5;\n",
       "            color:  #000000;\n",
       "        }    #T_49764538_a199_11ea_af90_8c1645af636arow22_col0 {\n",
       "            background-color:  #ffede5;\n",
       "            color:  #000000;\n",
       "        }    #T_49764538_a199_11ea_af90_8c1645af636arow23_col0 {\n",
       "            background-color:  #ffede5;\n",
       "            color:  #000000;\n",
       "        }    #T_49764538_a199_11ea_af90_8c1645af636arow24_col0 {\n",
       "            background-color:  #ffeee7;\n",
       "            color:  #000000;\n",
       "        }    #T_49764538_a199_11ea_af90_8c1645af636arow25_col0 {\n",
       "            background-color:  #ffeee7;\n",
       "            color:  #000000;\n",
       "        }    #T_49764538_a199_11ea_af90_8c1645af636arow26_col0 {\n",
       "            background-color:  #fff0e9;\n",
       "            color:  #000000;\n",
       "        }    #T_49764538_a199_11ea_af90_8c1645af636arow27_col0 {\n",
       "            background-color:  #fff2eb;\n",
       "            color:  #000000;\n",
       "        }    #T_49764538_a199_11ea_af90_8c1645af636arow28_col0 {\n",
       "            background-color:  #fff4ee;\n",
       "            color:  #000000;\n",
       "        }    #T_49764538_a199_11ea_af90_8c1645af636arow29_col0 {\n",
       "            background-color:  #fff4ee;\n",
       "            color:  #000000;\n",
       "        }    #T_49764538_a199_11ea_af90_8c1645af636arow30_col0 {\n",
       "            background-color:  #fff4ee;\n",
       "            color:  #000000;\n",
       "        }    #T_49764538_a199_11ea_af90_8c1645af636arow31_col0 {\n",
       "            background-color:  #fff5f0;\n",
       "            color:  #000000;\n",
       "        }</style><table id=\"T_49764538_a199_11ea_af90_8c1645af636a\" ><thead>    <tr>        <th class=\"blank level0\" ></th>        <th class=\"col_heading level0 col0\" >season</th>    </tr>    <tr>        <th class=\"index_name level0\" >city</th>        <th class=\"blank\" ></th>    </tr></thead><tbody>\n",
       "                <tr>\n",
       "                        <th id=\"T_49764538_a199_11ea_af90_8c1645af636alevel0_row0\" class=\"row_heading level0 row0\" >Mumbai</th>\n",
       "                        <td id=\"T_49764538_a199_11ea_af90_8c1645af636arow0_col0\" class=\"data row0 col0\" >101</td>\n",
       "            </tr>\n",
       "            <tr>\n",
       "                        <th id=\"T_49764538_a199_11ea_af90_8c1645af636alevel0_row1\" class=\"row_heading level0 row1\" >Kolkata</th>\n",
       "                        <td id=\"T_49764538_a199_11ea_af90_8c1645af636arow1_col0\" class=\"data row1 col0\" >77</td>\n",
       "            </tr>\n",
       "            <tr>\n",
       "                        <th id=\"T_49764538_a199_11ea_af90_8c1645af636alevel0_row2\" class=\"row_heading level0 row2\" >Delhi</th>\n",
       "                        <td id=\"T_49764538_a199_11ea_af90_8c1645af636arow2_col0\" class=\"data row2 col0\" >74</td>\n",
       "            </tr>\n",
       "            <tr>\n",
       "                        <th id=\"T_49764538_a199_11ea_af90_8c1645af636alevel0_row3\" class=\"row_heading level0 row3\" >Bangalore</th>\n",
       "                        <td id=\"T_49764538_a199_11ea_af90_8c1645af636arow3_col0\" class=\"data row3 col0\" >66</td>\n",
       "            </tr>\n",
       "            <tr>\n",
       "                        <th id=\"T_49764538_a199_11ea_af90_8c1645af636alevel0_row4\" class=\"row_heading level0 row4\" >Hyderabad</th>\n",
       "                        <td id=\"T_49764538_a199_11ea_af90_8c1645af636arow4_col0\" class=\"data row4 col0\" >64</td>\n",
       "            </tr>\n",
       "            <tr>\n",
       "                        <th id=\"T_49764538_a199_11ea_af90_8c1645af636alevel0_row5\" class=\"row_heading level0 row5\" >Chennai</th>\n",
       "                        <td id=\"T_49764538_a199_11ea_af90_8c1645af636arow5_col0\" class=\"data row5 col0\" >57</td>\n",
       "            </tr>\n",
       "            <tr>\n",
       "                        <th id=\"T_49764538_a199_11ea_af90_8c1645af636alevel0_row6\" class=\"row_heading level0 row6\" >Jaipur</th>\n",
       "                        <td id=\"T_49764538_a199_11ea_af90_8c1645af636arow6_col0\" class=\"data row6 col0\" >47</td>\n",
       "            </tr>\n",
       "            <tr>\n",
       "                        <th id=\"T_49764538_a199_11ea_af90_8c1645af636alevel0_row7\" class=\"row_heading level0 row7\" >Chandigarh</th>\n",
       "                        <td id=\"T_49764538_a199_11ea_af90_8c1645af636arow7_col0\" class=\"data row7 col0\" >46</td>\n",
       "            </tr>\n",
       "            <tr>\n",
       "                        <th id=\"T_49764538_a199_11ea_af90_8c1645af636alevel0_row8\" class=\"row_heading level0 row8\" >Pune</th>\n",
       "                        <td id=\"T_49764538_a199_11ea_af90_8c1645af636arow8_col0\" class=\"data row8 col0\" >38</td>\n",
       "            </tr>\n",
       "            <tr>\n",
       "                        <th id=\"T_49764538_a199_11ea_af90_8c1645af636alevel0_row9\" class=\"row_heading level0 row9\" >Durban</th>\n",
       "                        <td id=\"T_49764538_a199_11ea_af90_8c1645af636arow9_col0\" class=\"data row9 col0\" >15</td>\n",
       "            </tr>\n",
       "            <tr>\n",
       "                        <th id=\"T_49764538_a199_11ea_af90_8c1645af636alevel0_row10\" class=\"row_heading level0 row10\" >Bengaluru</th>\n",
       "                        <td id=\"T_49764538_a199_11ea_af90_8c1645af636arow10_col0\" class=\"data row10 col0\" >14</td>\n",
       "            </tr>\n",
       "            <tr>\n",
       "                        <th id=\"T_49764538_a199_11ea_af90_8c1645af636alevel0_row11\" class=\"row_heading level0 row11\" >Visakhapatnam</th>\n",
       "                        <td id=\"T_49764538_a199_11ea_af90_8c1645af636arow11_col0\" class=\"data row11 col0\" >13</td>\n",
       "            </tr>\n",
       "            <tr>\n",
       "                        <th id=\"T_49764538_a199_11ea_af90_8c1645af636alevel0_row12\" class=\"row_heading level0 row12\" >Centurion</th>\n",
       "                        <td id=\"T_49764538_a199_11ea_af90_8c1645af636arow12_col0\" class=\"data row12 col0\" >12</td>\n",
       "            </tr>\n",
       "            <tr>\n",
       "                        <th id=\"T_49764538_a199_11ea_af90_8c1645af636alevel0_row13\" class=\"row_heading level0 row13\" >Ahmedabad</th>\n",
       "                        <td id=\"T_49764538_a199_11ea_af90_8c1645af636arow13_col0\" class=\"data row13 col0\" >12</td>\n",
       "            </tr>\n",
       "            <tr>\n",
       "                        <th id=\"T_49764538_a199_11ea_af90_8c1645af636alevel0_row14\" class=\"row_heading level0 row14\" >Mohali</th>\n",
       "                        <td id=\"T_49764538_a199_11ea_af90_8c1645af636arow14_col0\" class=\"data row14 col0\" >10</td>\n",
       "            </tr>\n",
       "            <tr>\n",
       "                        <th id=\"T_49764538_a199_11ea_af90_8c1645af636alevel0_row15\" class=\"row_heading level0 row15\" >Rajkot</th>\n",
       "                        <td id=\"T_49764538_a199_11ea_af90_8c1645af636arow15_col0\" class=\"data row15 col0\" >10</td>\n",
       "            </tr>\n",
       "            <tr>\n",
       "                        <th id=\"T_49764538_a199_11ea_af90_8c1645af636alevel0_row16\" class=\"row_heading level0 row16\" >Dharamsala</th>\n",
       "                        <td id=\"T_49764538_a199_11ea_af90_8c1645af636arow16_col0\" class=\"data row16 col0\" >9</td>\n",
       "            </tr>\n",
       "            <tr>\n",
       "                        <th id=\"T_49764538_a199_11ea_af90_8c1645af636alevel0_row17\" class=\"row_heading level0 row17\" >Indore</th>\n",
       "                        <td id=\"T_49764538_a199_11ea_af90_8c1645af636arow17_col0\" class=\"data row17 col0\" >9</td>\n",
       "            </tr>\n",
       "            <tr>\n",
       "                        <th id=\"T_49764538_a199_11ea_af90_8c1645af636alevel0_row18\" class=\"row_heading level0 row18\" >Johannesburg</th>\n",
       "                        <td id=\"T_49764538_a199_11ea_af90_8c1645af636arow18_col0\" class=\"data row18 col0\" >8</td>\n",
       "            </tr>\n",
       "            <tr>\n",
       "                        <th id=\"T_49764538_a199_11ea_af90_8c1645af636alevel0_row19\" class=\"row_heading level0 row19\" >Cuttack</th>\n",
       "                        <td id=\"T_49764538_a199_11ea_af90_8c1645af636arow19_col0\" class=\"data row19 col0\" >7</td>\n",
       "            </tr>\n",
       "            <tr>\n",
       "                        <th id=\"T_49764538_a199_11ea_af90_8c1645af636alevel0_row20\" class=\"row_heading level0 row20\" >Cape Town</th>\n",
       "                        <td id=\"T_49764538_a199_11ea_af90_8c1645af636arow20_col0\" class=\"data row20 col0\" >7</td>\n",
       "            </tr>\n",
       "            <tr>\n",
       "                        <th id=\"T_49764538_a199_11ea_af90_8c1645af636alevel0_row21\" class=\"row_heading level0 row21\" >Port Elizabeth</th>\n",
       "                        <td id=\"T_49764538_a199_11ea_af90_8c1645af636arow21_col0\" class=\"data row21 col0\" >7</td>\n",
       "            </tr>\n",
       "            <tr>\n",
       "                        <th id=\"T_49764538_a199_11ea_af90_8c1645af636alevel0_row22\" class=\"row_heading level0 row22\" >Ranchi</th>\n",
       "                        <td id=\"T_49764538_a199_11ea_af90_8c1645af636arow22_col0\" class=\"data row22 col0\" >7</td>\n",
       "            </tr>\n",
       "            <tr>\n",
       "                        <th id=\"T_49764538_a199_11ea_af90_8c1645af636alevel0_row23\" class=\"row_heading level0 row23\" >Abu Dhabi</th>\n",
       "                        <td id=\"T_49764538_a199_11ea_af90_8c1645af636arow23_col0\" class=\"data row23 col0\" >7</td>\n",
       "            </tr>\n",
       "            <tr>\n",
       "                        <th id=\"T_49764538_a199_11ea_af90_8c1645af636alevel0_row24\" class=\"row_heading level0 row24\" >Sharjah</th>\n",
       "                        <td id=\"T_49764538_a199_11ea_af90_8c1645af636arow24_col0\" class=\"data row24 col0\" >6</td>\n",
       "            </tr>\n",
       "            <tr>\n",
       "                        <th id=\"T_49764538_a199_11ea_af90_8c1645af636alevel0_row25\" class=\"row_heading level0 row25\" >Raipur</th>\n",
       "                        <td id=\"T_49764538_a199_11ea_af90_8c1645af636arow25_col0\" class=\"data row25 col0\" >6</td>\n",
       "            </tr>\n",
       "            <tr>\n",
       "                        <th id=\"T_49764538_a199_11ea_af90_8c1645af636alevel0_row26\" class=\"row_heading level0 row26\" >Kochi</th>\n",
       "                        <td id=\"T_49764538_a199_11ea_af90_8c1645af636arow26_col0\" class=\"data row26 col0\" >5</td>\n",
       "            </tr>\n",
       "            <tr>\n",
       "                        <th id=\"T_49764538_a199_11ea_af90_8c1645af636alevel0_row27\" class=\"row_heading level0 row27\" >Kanpur</th>\n",
       "                        <td id=\"T_49764538_a199_11ea_af90_8c1645af636arow27_col0\" class=\"data row27 col0\" >4</td>\n",
       "            </tr>\n",
       "            <tr>\n",
       "                        <th id=\"T_49764538_a199_11ea_af90_8c1645af636alevel0_row28\" class=\"row_heading level0 row28\" >East London</th>\n",
       "                        <td id=\"T_49764538_a199_11ea_af90_8c1645af636arow28_col0\" class=\"data row28 col0\" >3</td>\n",
       "            </tr>\n",
       "            <tr>\n",
       "                        <th id=\"T_49764538_a199_11ea_af90_8c1645af636alevel0_row29\" class=\"row_heading level0 row29\" >Kimberley</th>\n",
       "                        <td id=\"T_49764538_a199_11ea_af90_8c1645af636arow29_col0\" class=\"data row29 col0\" >3</td>\n",
       "            </tr>\n",
       "            <tr>\n",
       "                        <th id=\"T_49764538_a199_11ea_af90_8c1645af636alevel0_row30\" class=\"row_heading level0 row30\" >Nagpur</th>\n",
       "                        <td id=\"T_49764538_a199_11ea_af90_8c1645af636arow30_col0\" class=\"data row30 col0\" >3</td>\n",
       "            </tr>\n",
       "            <tr>\n",
       "                        <th id=\"T_49764538_a199_11ea_af90_8c1645af636alevel0_row31\" class=\"row_heading level0 row31\" >Bloemfontein</th>\n",
       "                        <td id=\"T_49764538_a199_11ea_af90_8c1645af636arow31_col0\" class=\"data row31 col0\" >2</td>\n",
       "            </tr>\n",
       "    </tbody></table>"
      ],
      "text/plain": [
       "<pandas.io.formats.style.Styler at 0x25105c41b00>"
      ]
     },
     "execution_count": 96,
     "metadata": {},
     "output_type": "execute_result"
    }
   ],
   "source": [
    "city.style.background_gradient(cmap = 'Reds')"
   ]
  },
  {
   "cell_type": "code",
   "execution_count": 98,
   "metadata": {},
   "outputs": [
    {
     "data": {
      "image/png": "[encoded data removed]",
      "text/plain": [
       "<Figure size 720x432 with 1 Axes>"
      ]
     },
     "metadata": {
      "needs_background": "light"
     },
     "output_type": "display_data"
    }
   ],
   "source": [
    "plt.figure(figsize=(10,6))\n",
    "sns.countplot(x='city',data= matches)\n",
    "plt.xticks(rotation = 90)\n",
    "plt.show()"
   ]
  },
  {
   "cell_type": "markdown",
   "metadata": {},
   "source": [
    "### Q11) Matches played in each stadium?"
   ]
  },
  {
   "cell_type": "code",
   "execution_count": 102,
   "metadata": {},
   "outputs": [
    {
     "data": {
      "image/png": "[encoded data removed]",
      "text/plain": [
       "<Figure size 720x360 with 1 Axes>"
      ]
     },
     "metadata": {
      "needs_background": "light"
     },
     "output_type": "display_data"
    }
   ],
   "source": [
    "plt.figure(figsize=(10,5))\n",
    "sns.countplot(x='venue',data= matches)\n",
    "plt.xticks(rotation = 90)\n",
    "plt.show()"
   ]
  },
  {
   "cell_type": "code",
   "execution_count": null,
   "metadata": {},
   "outputs": [],
   "source": []
  }
 ],
 "metadata": {
  "kernelspec": {
   "display_name": "Python 3",
   "language": "python",
   "name": "python3"
  },
  "language_info": {
   "codemirror_mode": {
    "name": "ipython",
    "version": 3
   },
   "file_extension": ".py",
   "mimetype": "text/x-python",
   "name": "python",
   "nbconvert_exporter": "python",
   "pygments_lexer": "ipython3",
   "version": "3.7.3"
  }
 },
 "nbformat": 4,
 "nbformat_minor": 2
}
